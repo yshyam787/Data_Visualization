{
 "cells": [
  {
   "cell_type": "markdown",
   "id": "8b7bce1f-1e84-4c6a-a7f3-b7a53418402f",
   "metadata": {},
   "source": [
    "Shyam Kumar Ray Yadav (18449154)\n",
    "\n",
    "Sonu Kumar (15651099)\n",
    "\n",
    "Ahmad Raza Khawaja (25848862)"
   ]
  },
  {
   "cell_type": "markdown",
   "id": "71f616ce-0b0b-450c-ba42-0a4ca1f4a11f",
   "metadata": {},
   "source": [
    "# Problem Sheet 6"
   ]
  },
  {
   "cell_type": "markdown",
   "id": "d161622b-0aec-496b-9a2e-25d807dd2a8f",
   "metadata": {},
   "source": [
    "## Exercise 6.1: dimensionality reduction on histograms."
   ]
  },
  {
   "cell_type": "markdown",
   "id": "088fa610-2b63-47d7-ac69-373713ed46f6",
   "metadata": {},
   "source": [
    "The file ```hist.npz``` contains a small histogram dataset of 199 histograms with labels. The key ```data``` contains the normalized histograms, the key ```labels``` contains the binary labels (0 or 1), the key ```binspec``` contains the boundaries of the histogram bins. Analyze this dataset with PCA, as discussed in the lecture. Use both the standard Euclidean metric and the inverse cumulative distribution transform for the analysis an compare the results. Concretely, proceed as follows:"
   ]
  },
  {
   "cell_type": "markdown",
   "id": "0ae006f0-241f-48b0-8f16-09a3b3ad3caa",
   "metadata": {},
   "source": [
    "\n",
    "1. Import the histograms and visualize them with their labels."
   ]
  },
  {
   "cell_type": "code",
   "execution_count": 1,
   "id": "5ebe0d0a-f996-46d7-8290-90c846627f4c",
   "metadata": {},
   "outputs": [],
   "source": [
    "import numpy as np"
   ]
  },
  {
   "cell_type": "code",
   "execution_count": null,
   "id": "c00dbb5d-1cfd-4e1c-bc03-228ae23b25ae",
   "metadata": {},
   "outputs": [],
   "source": []
  }
 ],
 "metadata": {
  "kernelspec": {
   "display_name": "example",
   "language": "python",
   "name": "example"
  },
  "language_info": {
   "codemirror_mode": {
    "name": "ipython",
    "version": 3
   },
   "file_extension": ".py",
   "mimetype": "text/x-python",
   "name": "python",
   "nbconvert_exporter": "python",
   "pygments_lexer": "ipython3",
   "version": "3.12.2"
  }
 },
 "nbformat": 4,
 "nbformat_minor": 5
}
