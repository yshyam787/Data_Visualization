{
 "cells": [
  {
   "cell_type": "markdown",
   "id": "3320a721-b7bb-4329-ac2a-dcb9475681f3",
   "metadata": {},
   "source": [
    "Shyam Kumar Ray Yadav (18449154)\n",
    "\n",
    "Sonu Kumar (15651099)\n",
    "\n",
    "Ahmad Raza Khawaja (25848862)"
   ]
  },
  {
   "cell_type": "markdown",
   "id": "c6b52ca8-70c7-4314-89ea-327e71a514ba",
   "metadata": {},
   "source": [
    "# Problem sheet 9"
   ]
  },
  {
   "cell_type": "markdown",
   "id": "ade79ccb-b22d-4a49-9b44-f418dcfd2448",
   "metadata": {},
   "source": [
    "The files\n",
    "\n",
    "- ```energy.png```([https://www.umweltbundesamt.de/themen/klima-energie/erneuerbare-energien/erneuerbare-energien-in-zahlen#uberblick](https://www.umweltbundesamt.de/themen/klima-energie/erneuerbare-energien/erneuerbare-energien-in-zahlen#uberblick))\n",
    "- ```baseball.png```([https://benfry.com/salaryper/](https://benfry.com/salaryper/))\n",
    "- ```machine-learning.png``` (Bertolini et al.: Machine Learning for industrial applications: A comprehensive literature review, Expert Systems with Applications 175, 2021, [https: //doi.org/10.1016/j.eswa.2021.114820](https://www.sciencedirect.com/science/article/abs/pii/S095741742100261X?via%3Dihub))\n",
    "\n",
    "contain three examples of statistical charts found 'in the wild'. Apply Tufte's design principles on minimalism, data-ink, and chart junk to $\\textit{two out of three}$ of them. This means: list/describe/mark which parts of the charts are not data-ink, and describing/sketch how an improved version of the chart could look like.\n",
    "$\\textit{Remark}$: It is not necessary to re-create the charts with plotting software. A simple `dissection' and a sketch, as shown in the lecture, using e.g. Paint or Gimp is fully sufficient.\n",
    "\n"
   ]
  },
  {
   "cell_type": "code",
   "execution_count": 1,
   "id": "8995a1ea-89c8-42ba-9762-d5d0c90eaf59",
   "metadata": {},
   "outputs": [],
   "source": [
    "#code to be written here. "
   ]
  },
  {
   "cell_type": "code",
   "execution_count": null,
   "id": "9147bf47-b911-4308-87b4-c58dd2e5c0c9",
   "metadata": {},
   "outputs": [],
   "source": []
  }
 ],
 "metadata": {
  "kernelspec": {
   "display_name": "Python 3 (ipykernel)",
   "language": "python",
   "name": "python3"
  },
  "language_info": {
   "codemirror_mode": {
    "name": "ipython",
    "version": 3
   },
   "file_extension": ".py",
   "mimetype": "text/x-python",
   "name": "python",
   "nbconvert_exporter": "python",
   "pygments_lexer": "ipython3",
   "version": "3.11.7"
  }
 },
 "nbformat": 4,
 "nbformat_minor": 5
}
